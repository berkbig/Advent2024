{
 "cells": [
  {
   "cell_type": "code",
   "execution_count": 25,
   "metadata": {},
   "outputs": [
    {
     "data": {
      "text/plain": [
       "167650499"
      ]
     },
     "execution_count": 25,
     "metadata": {},
     "output_type": "execute_result"
    }
   ],
   "source": [
    "#puzzle1\n",
    "import re\n",
    "def mulpair(p):\n",
    "    return int(p[0])*int(p[1])\n",
    "\n",
    "infile = open('day3input.txt','r')\n",
    "result=0\n",
    "for line in infile:\n",
    "    statements=re.findall(\"mul\\\\(\\\\d{1,3},\\\\d{1,3}\\\\)\",line)\n",
    "    numbers=[re.findall(\"\\\\d+\",s) for s in statements]\n",
    "    products = map(mulpair,numbers)\n",
    "    result = result + sum(products)\n",
    "result\n",
    "\n"
   ]
  },
  {
   "cell_type": "code",
   "execution_count": 29,
   "metadata": {},
   "outputs": [
    {
     "data": {
      "text/plain": [
       "95846796"
      ]
     },
     "execution_count": 29,
     "metadata": {},
     "output_type": "execute_result"
    }
   ],
   "source": [
    "infile = open('day3input.txt','r')\n",
    "result2=0\n",
    "domul=True\n",
    "for line in infile:\n",
    "    statements=re.findall(\"mul\\\\(\\\\d{1,3},\\\\d{1,3}\\\\)|do\\\\(\\\\)|don't\\\\(\\\\)\",line)\n",
    "    for s in statements:\n",
    "        if(s==\"do()\"):\n",
    "            domul=True\n",
    "        elif(s==\"don't()\"):\n",
    "            domul=False\n",
    "        elif(domul==True):\n",
    "            numbers=re.findall(\"\\\\d+\",s)\n",
    "            result2 = result2 + mulpair(numbers)\n",
    "result2\n"
   ]
  },
  {
   "cell_type": "code",
   "execution_count": null,
   "metadata": {},
   "outputs": [],
   "source": []
  }
 ],
 "metadata": {
  "kernelspec": {
   "display_name": ".venv",
   "language": "python",
   "name": "python3"
  },
  "language_info": {
   "codemirror_mode": {
    "name": "ipython",
    "version": 3
   },
   "file_extension": ".py",
   "mimetype": "text/x-python",
   "name": "python",
   "nbconvert_exporter": "python",
   "pygments_lexer": "ipython3",
   "version": "3.13.0"
  },
  "orig_nbformat": 4
 },
 "nbformat": 4,
 "nbformat_minor": 2
}
