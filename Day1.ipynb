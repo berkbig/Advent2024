{
 "cells": [
  {
   "cell_type": "code",
   "execution_count": null,
   "metadata": {},
   "outputs": [
    {
     "name": "stdout",
     "output_type": "stream",
     "text": [
      "1590491\n"
     ]
    }
   ],
   "source": [
    "#puzzle1\n",
    "infile = open('Day1Input.txt','r')\n",
    "inputleft=[]\n",
    "inputright=[]\n",
    "for line in infile:\n",
    "    pair = line.split()\n",
    "    inputleft.append(int(pair[0]))\n",
    "    inputright.append(int(pair[1]))\n",
    "inputleft.sort()\n",
    "inputright.sort()\n",
    "result=0\n",
    "for i in range(0,len(inputleft)):\n",
    "    result = result+abs(inputleft[i]-inputright[i])\n",
    "print(result)"
   ]
  },
  {
   "cell_type": "code",
   "execution_count": 30,
   "metadata": {},
   "outputs": [
    {
     "data": {
      "text/plain": [
       "1523"
      ]
     },
     "execution_count": 30,
     "metadata": {},
     "output_type": "execute_result"
    }
   ],
   "source": [
    "#Puzzle2\n",
    "import functools;\n",
    "import math;\n",
    "infile = open('Day1Input.txt','r')\n",
    "inputdata = []\n",
    "for line in infile:\n",
    "    inputdata.append(int(line))\n",
    "#inputdata = (1,0,5,10,0,5,10)\n",
    "sums = []\n",
    "result = []\n",
    "for i in range(0,len(inputdata)-2):\n",
    "    sums.append(inputdata[i]+inputdata[i+1]+inputdata[i+2])\n",
    "for i in range(0,len(sums)-1):\n",
    "    result.append((1 if sums[i+1]>sums[i] else 0))\n",
    "functools.reduce(lambda a,b: a+b,result)"
   ]
  },
  {
   "cell_type": "code",
   "execution_count": null,
   "metadata": {},
   "outputs": [],
   "source": []
  }
 ],
 "metadata": {
  "kernelspec": {
   "display_name": ".venv",
   "language": "python",
   "name": "python3"
  },
  "language_info": {
   "codemirror_mode": {
    "name": "ipython",
    "version": 3
   },
   "file_extension": ".py",
   "mimetype": "text/x-python",
   "name": "python",
   "nbconvert_exporter": "python",
   "pygments_lexer": "ipython3",
   "version": "3.13.0"
  },
  "orig_nbformat": 4
 },
 "nbformat": 4,
 "nbformat_minor": 2
}
