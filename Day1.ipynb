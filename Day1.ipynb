{
 "cells": [
  {
   "cell_type": "code",
   "execution_count": null,
   "metadata": {},
   "outputs": [
    {
     "name": "stdout",
     "output_type": "stream",
     "text": [
      "1590491\n"
     ]
    }
   ],
   "source": [
    "#puzzle1\n",
    "infile = open('Day1Input.txt','r')\n",
    "inputleft=[]\n",
    "inputright=[]\n",
    "for line in infile:\n",
    "    pair = line.split()\n",
    "    inputleft.append(int(pair[0]))\n",
    "    inputright.append(int(pair[1]))\n",
    "inputleft.sort()\n",
    "inputright.sort()\n",
    "result=0\n",
    "for i in range(0,len(inputleft)):\n",
    "    result = result+abs(inputleft[i]-inputright[i])\n",
    "print(result)"
   ]
  },
  {
   "cell_type": "code",
   "execution_count": 5,
   "metadata": {},
   "outputs": [
    {
     "data": {
      "text/plain": [
       "22588371"
      ]
     },
     "execution_count": 5,
     "metadata": {},
     "output_type": "execute_result"
    }
   ],
   "source": [
    "#puzzle2\n",
    "import collections\n",
    "infile = open('Day1Input.txt','r')\n",
    "inputleft=[]\n",
    "inputright=[]\n",
    "for line in infile:\n",
    "    pair = line.split()\n",
    "    inputleft.append(int(pair[0]))\n",
    "    inputright.append(int(pair[1]))\n",
    "counts = collections.Counter(inputright)\n",
    "result = [a * counts.get(a) for a in inputleft if counts.get(a) != None]\n",
    "sum(result)"
   ]
  },
  {
   "cell_type": "code",
   "execution_count": null,
   "metadata": {},
   "outputs": [],
   "source": []
  }
 ],
 "metadata": {
  "kernelspec": {
   "display_name": ".venv",
   "language": "python",
   "name": "python3"
  },
  "language_info": {
   "codemirror_mode": {
    "name": "ipython",
    "version": 3
   },
   "file_extension": ".py",
   "mimetype": "text/x-python",
   "name": "python",
   "nbconvert_exporter": "python",
   "pygments_lexer": "ipython3",
   "version": "3.13.0"
  },
  "orig_nbformat": 4
 },
 "nbformat": 4,
 "nbformat_minor": 2
}
