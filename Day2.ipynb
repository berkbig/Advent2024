{
 "cells": [
  {
   "cell_type": "code",
   "execution_count": null,
   "metadata": {},
   "outputs": [
    {
     "data": {
      "text/plain": [
       "321"
      ]
     },
     "execution_count": 1,
     "metadata": {},
     "output_type": "execute_result"
    }
   ],
   "source": [
    "#puzzle1\n",
    "import collections\n",
    "def safeReport(indata):\n",
    "    ascending = indata[0]<indata[1]\n",
    "    for i in range(0,len(indata)-1):\n",
    "        val= indata[i]-indata[i+1];\n",
    "        if(val == 0 or abs(val) > 3):\n",
    "            return False\n",
    "        elif(ascending and val > 0):\n",
    "            return False\n",
    "        elif(not ascending and val < 0):\n",
    "            return False\n",
    "    return True\n",
    "\n",
    "infile = open('Day2t.txt','r')\n",
    "input=[]\n",
    "for line in infile:\n",
    "    numbers = line.split()\n",
    "    input.append([int(a) for a in numbers])\n",
    "results = [safeReport(a) for a in input]\n",
    "counts = collections.Counter(results)\n",
    "counts[True]"
   ]
  },
  {
   "cell_type": "code",
   "execution_count": null,
   "metadata": {},
   "outputs": [
    {
     "data": {
      "text/plain": [
       "386"
      ]
     },
     "execution_count": 5,
     "metadata": {},
     "output_type": "execute_result"
    }
   ],
   "source": [
    "import collections\n",
    "def testallpermutations(indata):\n",
    "    if(safeReport(indata)):\n",
    "        return True\n",
    "    for i in range(0,len(indata)):\n",
    "        if(safeReport([val for idx, val in enumerate(indata) if i != idx])):\n",
    "            return True\n",
    "    return False\n",
    "\n",
    "infile = open('Day2input.txt','r')\n",
    "input=[]\n",
    "for line in infile:\n",
    "    numbers = line.split()\n",
    "    input.append([int(a) for a in numbers])\n",
    "results = [testallpermutations(a) for a in input]\n",
    "counts = collections.Counter(results)\n",
    "counts[True]"
   ]
  },
  {
   "cell_type": "code",
   "execution_count": null,
   "metadata": {},
   "outputs": [],
   "source": []
  }
 ],
 "metadata": {
  "kernelspec": {
   "display_name": ".venv",
   "language": "python",
   "name": "python3"
  },
  "language_info": {
   "codemirror_mode": {
    "name": "ipython",
    "version": 3
   },
   "file_extension": ".py",
   "mimetype": "text/x-python",
   "name": "python",
   "nbconvert_exporter": "python",
   "pygments_lexer": "ipython3",
   "version": "3.13.0"
  },
  "orig_nbformat": 4
 },
 "nbformat": 4,
 "nbformat_minor": 2
}
